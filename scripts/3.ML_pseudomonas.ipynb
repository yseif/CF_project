{
 "cells": [
  {
   "cell_type": "code",
   "execution_count": 1,
   "metadata": {},
   "outputs": [],
   "source": [
    "import pickle\n",
    "import pandas as pd\n",
    "from collections import defaultdict, OrderedDict, Counter\n",
    "import time\n",
    "from glob import glob\n",
    "from matplotlib import pyplot as plt\n",
    "import seaborn as sns\n",
    "import numpy as np\n",
    "import matplotlib.patches as mpatches\n",
    "import re\n",
    "import os\n",
    "import scipy\n",
    "import urllib\n",
    "\n",
    "import sys\n",
    "sys.path.append(\"/home/yara/Documents/PseudoFind\")\n",
    "from PseudoFind.pangenome_cmds import *\n",
    "\n",
    "%matplotlib inline"
   ]
  },
  {
   "cell_type": "code",
   "execution_count": 2,
   "metadata": {},
   "outputs": [],
   "source": [
    "from sklearn.ensemble import RandomForestClassifier, ExtraTreesClassifier\n",
    "from sklearn.model_selection import cross_validate, cross_val_predict,  GridSearchCV, StratifiedKFold\n",
    "from sklearn.pipeline import Pipeline\n",
    "from sklearn.feature_selection import SelectFromModel\n",
    "from sklearn.svm import LinearSVC\n",
    "from sklearn.linear_model import LogisticRegression\n",
    "from sklearn import metrics"
   ]
  },
  {
   "cell_type": "code",
   "execution_count": 3,
   "metadata": {},
   "outputs": [],
   "source": [
    "from machine_learning_pipeline import *\n",
    "import sys\n",
    "\n",
    "if not sys.warnoptions:\n",
    "    import warnings\n",
    "    warnings.simplefilter(\"ignore\")"
   ]
  },
  {
   "cell_type": "code",
   "execution_count": 23,
   "metadata": {},
   "outputs": [],
   "source": [
    "col_rows = pickle.load(open('/home/yara/Documents/cystic_fibrosis/data/pseudomonas/allele_matrix/col_rows.p', 'rb'))\n",
    "gid_order = col_rows[0]\n",
    "FT_LRI = pd.read_csv('/home/yara/Documents/cystic_fibrosis/data/pseudomonas/FT_LRI_f2.csv', dtype = {'Genome ID':str}).set_index('Genome ID').loc[gid_order].reset_index()\n",
    "\n",
    "directory = '/home/yara/Documents/cystic_fibrosis/data/pseudomonas/allele_matrix/'\n",
    "input_matrix = scipy.sparse.load_npz('%s/allele_matrix.npz'%directory).todense().T"
   ]
  },
  {
   "cell_type": "markdown",
   "metadata": {},
   "source": [
    "#a hold-out dataset"
   ]
  },
  {
   "cell_type": "code",
   "execution_count": 4,
   "metadata": {},
   "outputs": [
    {
     "name": "stdout",
     "output_type": "stream",
     "text": [
      "The proportions are as follows. The percent of CF \n",
      "in the full data-set is : 0.643258%\n",
      "in the tranining data-set is : 0.643234%\n",
      "in the validation data-set is : 0.643357%\n"
     ]
    }
   ],
   "source": [
    "from sklearn.model_selection import StratifiedShuffleSplit\n",
    "import random\n",
    "\n",
    "labels = np.array(FT_LRI['cystic_fibrosis_status'])\n",
    "sss = StratifiedShuffleSplit(n_splits=1, test_size=0.2, random_state=0)\n",
    "sss.get_n_splits(allele_matrix, labels)\n",
    "\n",
    "for train_index, test_index in sss.split(allele_matrix, labels):\n",
    "    data_FS, data_holdout = allele_matrix[train_index,:], allele_matrix[test_index,:]\n",
    "    labels_FS, labels_holdout = labels[train_index], labels[test_index]\n",
    "    \n",
    "rand = np.array([random.randint(0, 1) for _ in range(data_FS.shape[0])])\n",
    "data_FS = np.vstack((data_FS.T, rand)).T\n",
    "\n",
    "\n",
    "np.savez('/home/yara/Documents/cystic_fibrosis/data/pseudomonas/machine_learning/input_data.npz',\n",
    "        train_index = train_index, \n",
    "        test_index = test_index,\n",
    "         rand = rand\n",
    "        )\n",
    "\n",
    "print('The proportions are as follows. The percent of CF ')\n",
    "print('in the full data-set is : %f%%'%(Counter(labels)[1]/float(len(labels))))\n",
    "print('in the tranining data-set is : %f%%'%(Counter(labels_FS)[1]/float(len(labels_FS))))\n",
    "print('in the validation data-set is : %f%%'%(Counter(labels_holdout)[1]/float(len(labels_holdout))))"
   ]
  },
  {
   "cell_type": "markdown",
   "metadata": {},
   "source": [
    "#b feature selection"
   ]
  },
  {
   "cell_type": "code",
   "execution_count": 5,
   "metadata": {},
   "outputs": [
    {
     "name": "stderr",
     "output_type": "stream",
     "text": [
      "/usr/local/lib/python3.5/dist-packages/sklearn/svm/base.py:931: ConvergenceWarning: Liblinear failed to converge, increase the number of iterations.\n",
      "  \"the number of iterations.\", ConvergenceWarning)\n",
      "/usr/local/lib/python3.5/dist-packages/sklearn/svm/base.py:931: ConvergenceWarning: Liblinear failed to converge, increase the number of iterations.\n",
      "  \"the number of iterations.\", ConvergenceWarning)\n",
      "/usr/local/lib/python3.5/dist-packages/sklearn/linear_model/logistic.py:433: FutureWarning: Default solver will be changed to 'lbfgs' in 0.22. Specify a solver to silence this warning.\n",
      "  FutureWarning)\n",
      "/usr/local/lib/python3.5/dist-packages/sklearn/linear_model/logistic.py:433: FutureWarning: Default solver will be changed to 'lbfgs' in 0.22. Specify a solver to silence this warning.\n",
      "  FutureWarning)\n",
      "/usr/local/lib/python3.5/dist-packages/sklearn/linear_model/logistic.py:433: FutureWarning: Default solver will be changed to 'lbfgs' in 0.22. Specify a solver to silence this warning.\n",
      "  FutureWarning)\n"
     ]
    }
   ],
   "source": [
    "models = {'LinearSVC':LinearSVC(penalty=\"l1\", loss=\"squared_hinge\", dual=False, max_iter = 10000, class_weight=\"balanced\"), \n",
    "          'LogisticRegression':LogisticRegression(penalty= \"l1\", dual = False),\n",
    "          'RandomForestClassifier':RandomForestClassifier(n_estimators = 100)\n",
    "         }\n",
    "all_rows = defaultdict(list)\n",
    "\n",
    "for model_id, clf_i in models.items():\n",
    "    for c in [0.5, 1, 2]:\n",
    "        if model_id == 'RandomForestClassifier':\n",
    "            clf = clf_i.fit(data_FS, labels_FS)\n",
    "            coef_d = dict(zip(range(data_FS.shape[1]), clf.feature_importances_))\n",
    "            d = {x:y for x,y in coef_d.items() if abs(y) > abs(coef_d[data_FS.shape[1] -1])}\n",
    "        else:\n",
    "            clf_i.C = c\n",
    "            clf = clf_i.fit(data_FS, labels_FS)\n",
    "            coef_d = dict(zip(range(data_FS.shape[1]), clf.coef_.tolist()[0]))\n",
    "            d = {x:y for x,y in coef_d.items() if abs(y) > abs(coef_d[data_FS.shape[1] -1])}\n",
    "        all_rows['%s - C=%d - random'%(model_id,c)] = d"
   ]
  },
  {
   "cell_type": "code",
   "execution_count": 6,
   "metadata": {},
   "outputs": [],
   "source": [
    "pickle.dump(all_rows, open('/home/yara/Documents/cystic_fibrosis/data/pseudomonas/machine_learning/ML_trial_run_2.p', 'wb'))"
   ]
  },
  {
   "cell_type": "markdown",
   "metadata": {},
   "source": [
    "#c train ML models"
   ]
  },
  {
   "cell_type": "code",
   "execution_count": 7,
   "metadata": {
    "scrolled": true
   },
   "outputs": [
    {
     "name": "stderr",
     "output_type": "stream",
     "text": [
      "/usr/local/lib/python3.5/dist-packages/sklearn/metrics/cluster/supervised.py:844: FutureWarning: The behavior of NMI will change in version 0.22. To match the behavior of 'v_measure_score', NMI will use average_method='arithmetic' by default.\n",
      "  FutureWarning)\n",
      "/usr/local/lib/python3.5/dist-packages/sklearn/metrics/cluster/supervised.py:844: FutureWarning: The behavior of NMI will change in version 0.22. To match the behavior of 'v_measure_score', NMI will use average_method='arithmetic' by default.\n",
      "  FutureWarning)\n",
      "/usr/local/lib/python3.5/dist-packages/sklearn/metrics/cluster/supervised.py:844: FutureWarning: The behavior of NMI will change in version 0.22. To match the behavior of 'v_measure_score', NMI will use average_method='arithmetic' by default.\n",
      "  FutureWarning)\n",
      "/usr/local/lib/python3.5/dist-packages/sklearn/metrics/cluster/supervised.py:844: FutureWarning: The behavior of NMI will change in version 0.22. To match the behavior of 'v_measure_score', NMI will use average_method='arithmetic' by default.\n",
      "  FutureWarning)\n",
      "/usr/local/lib/python3.5/dist-packages/sklearn/metrics/cluster/supervised.py:844: FutureWarning: The behavior of NMI will change in version 0.22. To match the behavior of 'v_measure_score', NMI will use average_method='arithmetic' by default.\n",
      "  FutureWarning)\n",
      "/usr/local/lib/python3.5/dist-packages/sklearn/metrics/cluster/supervised.py:844: FutureWarning: The behavior of NMI will change in version 0.22. To match the behavior of 'v_measure_score', NMI will use average_method='arithmetic' by default.\n",
      "  FutureWarning)\n",
      "/usr/local/lib/python3.5/dist-packages/sklearn/metrics/cluster/supervised.py:844: FutureWarning: The behavior of NMI will change in version 0.22. To match the behavior of 'v_measure_score', NMI will use average_method='arithmetic' by default.\n",
      "  FutureWarning)\n",
      "/usr/local/lib/python3.5/dist-packages/sklearn/metrics/cluster/supervised.py:844: FutureWarning: The behavior of NMI will change in version 0.22. To match the behavior of 'v_measure_score', NMI will use average_method='arithmetic' by default.\n",
      "  FutureWarning)\n",
      "/usr/local/lib/python3.5/dist-packages/sklearn/metrics/cluster/supervised.py:844: FutureWarning: The behavior of NMI will change in version 0.22. To match the behavior of 'v_measure_score', NMI will use average_method='arithmetic' by default.\n",
      "  FutureWarning)\n",
      "/usr/local/lib/python3.5/dist-packages/sklearn/metrics/cluster/supervised.py:844: FutureWarning: The behavior of NMI will change in version 0.22. To match the behavior of 'v_measure_score', NMI will use average_method='arithmetic' by default.\n",
      "  FutureWarning)\n",
      "/usr/local/lib/python3.5/dist-packages/sklearn/metrics/cluster/supervised.py:844: FutureWarning: The behavior of NMI will change in version 0.22. To match the behavior of 'v_measure_score', NMI will use average_method='arithmetic' by default.\n",
      "  FutureWarning)\n",
      "/usr/local/lib/python3.5/dist-packages/sklearn/metrics/cluster/supervised.py:844: FutureWarning: The behavior of NMI will change in version 0.22. To match the behavior of 'v_measure_score', NMI will use average_method='arithmetic' by default.\n",
      "  FutureWarning)\n",
      "/usr/local/lib/python3.5/dist-packages/sklearn/metrics/cluster/supervised.py:844: FutureWarning: The behavior of NMI will change in version 0.22. To match the behavior of 'v_measure_score', NMI will use average_method='arithmetic' by default.\n",
      "  FutureWarning)\n",
      "/usr/local/lib/python3.5/dist-packages/sklearn/metrics/cluster/supervised.py:844: FutureWarning: The behavior of NMI will change in version 0.22. To match the behavior of 'v_measure_score', NMI will use average_method='arithmetic' by default.\n",
      "  FutureWarning)\n",
      "/usr/local/lib/python3.5/dist-packages/sklearn/metrics/cluster/supervised.py:844: FutureWarning: The behavior of NMI will change in version 0.22. To match the behavior of 'v_measure_score', NMI will use average_method='arithmetic' by default.\n",
      "  FutureWarning)\n",
      "/usr/local/lib/python3.5/dist-packages/sklearn/metrics/cluster/supervised.py:844: FutureWarning: The behavior of NMI will change in version 0.22. To match the behavior of 'v_measure_score', NMI will use average_method='arithmetic' by default.\n",
      "  FutureWarning)\n",
      "/usr/local/lib/python3.5/dist-packages/sklearn/metrics/cluster/supervised.py:844: FutureWarning: The behavior of NMI will change in version 0.22. To match the behavior of 'v_measure_score', NMI will use average_method='arithmetic' by default.\n",
      "  FutureWarning)\n",
      "/usr/local/lib/python3.5/dist-packages/sklearn/metrics/cluster/supervised.py:844: FutureWarning: The behavior of NMI will change in version 0.22. To match the behavior of 'v_measure_score', NMI will use average_method='arithmetic' by default.\n",
      "  FutureWarning)\n",
      "/usr/local/lib/python3.5/dist-packages/sklearn/metrics/cluster/supervised.py:844: FutureWarning: The behavior of NMI will change in version 0.22. To match the behavior of 'v_measure_score', NMI will use average_method='arithmetic' by default.\n",
      "  FutureWarning)\n",
      "/usr/local/lib/python3.5/dist-packages/sklearn/metrics/cluster/supervised.py:844: FutureWarning: The behavior of NMI will change in version 0.22. To match the behavior of 'v_measure_score', NMI will use average_method='arithmetic' by default.\n",
      "  FutureWarning)\n",
      "/usr/local/lib/python3.5/dist-packages/sklearn/metrics/cluster/supervised.py:844: FutureWarning: The behavior of NMI will change in version 0.22. To match the behavior of 'v_measure_score', NMI will use average_method='arithmetic' by default.\n",
      "  FutureWarning)\n",
      "/usr/local/lib/python3.5/dist-packages/sklearn/metrics/cluster/supervised.py:844: FutureWarning: The behavior of NMI will change in version 0.22. To match the behavior of 'v_measure_score', NMI will use average_method='arithmetic' by default.\n",
      "  FutureWarning)\n",
      "/usr/local/lib/python3.5/dist-packages/sklearn/metrics/cluster/supervised.py:844: FutureWarning: The behavior of NMI will change in version 0.22. To match the behavior of 'v_measure_score', NMI will use average_method='arithmetic' by default.\n",
      "  FutureWarning)\n",
      "/usr/local/lib/python3.5/dist-packages/sklearn/metrics/cluster/supervised.py:844: FutureWarning: The behavior of NMI will change in version 0.22. To match the behavior of 'v_measure_score', NMI will use average_method='arithmetic' by default.\n",
      "  FutureWarning)\n",
      "/usr/local/lib/python3.5/dist-packages/sklearn/metrics/cluster/supervised.py:844: FutureWarning: The behavior of NMI will change in version 0.22. To match the behavior of 'v_measure_score', NMI will use average_method='arithmetic' by default.\n",
      "  FutureWarning)\n",
      "/usr/local/lib/python3.5/dist-packages/sklearn/metrics/cluster/supervised.py:844: FutureWarning: The behavior of NMI will change in version 0.22. To match the behavior of 'v_measure_score', NMI will use average_method='arithmetic' by default.\n",
      "  FutureWarning)\n",
      "/usr/local/lib/python3.5/dist-packages/sklearn/metrics/cluster/supervised.py:844: FutureWarning: The behavior of NMI will change in version 0.22. To match the behavior of 'v_measure_score', NMI will use average_method='arithmetic' by default.\n",
      "  FutureWarning)\n",
      "/usr/local/lib/python3.5/dist-packages/sklearn/metrics/cluster/supervised.py:844: FutureWarning: The behavior of NMI will change in version 0.22. To match the behavior of 'v_measure_score', NMI will use average_method='arithmetic' by default.\n",
      "  FutureWarning)\n",
      "/usr/local/lib/python3.5/dist-packages/sklearn/metrics/cluster/supervised.py:844: FutureWarning: The behavior of NMI will change in version 0.22. To match the behavior of 'v_measure_score', NMI will use average_method='arithmetic' by default.\n",
      "  FutureWarning)\n",
      "/usr/local/lib/python3.5/dist-packages/sklearn/metrics/cluster/supervised.py:844: FutureWarning: The behavior of NMI will change in version 0.22. To match the behavior of 'v_measure_score', NMI will use average_method='arithmetic' by default.\n",
      "  FutureWarning)\n",
      "/usr/local/lib/python3.5/dist-packages/sklearn/metrics/cluster/supervised.py:844: FutureWarning: The behavior of NMI will change in version 0.22. To match the behavior of 'v_measure_score', NMI will use average_method='arithmetic' by default.\n",
      "  FutureWarning)\n",
      "/usr/local/lib/python3.5/dist-packages/sklearn/metrics/cluster/supervised.py:844: FutureWarning: The behavior of NMI will change in version 0.22. To match the behavior of 'v_measure_score', NMI will use average_method='arithmetic' by default.\n",
      "  FutureWarning)\n"
     ]
    },
    {
     "name": "stderr",
     "output_type": "stream",
     "text": [
      "/usr/local/lib/python3.5/dist-packages/sklearn/metrics/cluster/supervised.py:844: FutureWarning: The behavior of NMI will change in version 0.22. To match the behavior of 'v_measure_score', NMI will use average_method='arithmetic' by default.\n",
      "  FutureWarning)\n",
      "/usr/local/lib/python3.5/dist-packages/sklearn/metrics/cluster/supervised.py:844: FutureWarning: The behavior of NMI will change in version 0.22. To match the behavior of 'v_measure_score', NMI will use average_method='arithmetic' by default.\n",
      "  FutureWarning)\n",
      "/usr/local/lib/python3.5/dist-packages/sklearn/metrics/cluster/supervised.py:844: FutureWarning: The behavior of NMI will change in version 0.22. To match the behavior of 'v_measure_score', NMI will use average_method='arithmetic' by default.\n",
      "  FutureWarning)\n",
      "/usr/local/lib/python3.5/dist-packages/sklearn/metrics/cluster/supervised.py:844: FutureWarning: The behavior of NMI will change in version 0.22. To match the behavior of 'v_measure_score', NMI will use average_method='arithmetic' by default.\n",
      "  FutureWarning)\n",
      "/usr/local/lib/python3.5/dist-packages/sklearn/metrics/cluster/supervised.py:844: FutureWarning: The behavior of NMI will change in version 0.22. To match the behavior of 'v_measure_score', NMI will use average_method='arithmetic' by default.\n",
      "  FutureWarning)\n",
      "/usr/local/lib/python3.5/dist-packages/sklearn/metrics/cluster/supervised.py:844: FutureWarning: The behavior of NMI will change in version 0.22. To match the behavior of 'v_measure_score', NMI will use average_method='arithmetic' by default.\n",
      "  FutureWarning)\n",
      "/usr/local/lib/python3.5/dist-packages/sklearn/metrics/cluster/supervised.py:844: FutureWarning: The behavior of NMI will change in version 0.22. To match the behavior of 'v_measure_score', NMI will use average_method='arithmetic' by default.\n",
      "  FutureWarning)\n",
      "/usr/local/lib/python3.5/dist-packages/sklearn/metrics/cluster/supervised.py:844: FutureWarning: The behavior of NMI will change in version 0.22. To match the behavior of 'v_measure_score', NMI will use average_method='arithmetic' by default.\n",
      "  FutureWarning)\n",
      "/usr/local/lib/python3.5/dist-packages/sklearn/metrics/cluster/supervised.py:844: FutureWarning: The behavior of NMI will change in version 0.22. To match the behavior of 'v_measure_score', NMI will use average_method='arithmetic' by default.\n",
      "  FutureWarning)\n",
      "/usr/local/lib/python3.5/dist-packages/sklearn/metrics/cluster/supervised.py:844: FutureWarning: The behavior of NMI will change in version 0.22. To match the behavior of 'v_measure_score', NMI will use average_method='arithmetic' by default.\n",
      "  FutureWarning)\n",
      "/usr/local/lib/python3.5/dist-packages/sklearn/metrics/cluster/supervised.py:844: FutureWarning: The behavior of NMI will change in version 0.22. To match the behavior of 'v_measure_score', NMI will use average_method='arithmetic' by default.\n",
      "  FutureWarning)\n",
      "/usr/local/lib/python3.5/dist-packages/sklearn/metrics/cluster/supervised.py:844: FutureWarning: The behavior of NMI will change in version 0.22. To match the behavior of 'v_measure_score', NMI will use average_method='arithmetic' by default.\n",
      "  FutureWarning)\n",
      "/usr/local/lib/python3.5/dist-packages/sklearn/metrics/cluster/supervised.py:844: FutureWarning: The behavior of NMI will change in version 0.22. To match the behavior of 'v_measure_score', NMI will use average_method='arithmetic' by default.\n",
      "  FutureWarning)\n"
     ]
    }
   ],
   "source": [
    "training_models = {\n",
    "    'LogisticRegression':LogisticRegression(solver = 'lbfgs', max_iter = 10000),\n",
    "    'ExtraTreesClassifier':ExtraTreesClassifier(n_estimators = 100),\n",
    "    'RandomForest':RandomForestClassifier(n_estimators = 100),\n",
    "    'LinearSVC':LinearSVC(penalty=\"l1\", dual=False, max_iter = 10000),\n",
    "    'LinearSVC(L-2)':LinearSVC(penalty=\"l2\", max_iter = 10000)\n",
    "}\n",
    "\n",
    "rows = []\n",
    "for training_model_id, clf in training_models.items():\n",
    "    for selection_model_id, features in all_rows.items():\n",
    "        selected_features = list(features.keys())\n",
    "        skf = StratifiedKFold(n_splits=10)\n",
    "        scores = cross_validate(clf, data_FS[:,selected_features], labels_FS, cv=skf, return_train_score = True)\n",
    "        predicted = cross_val_predict(clf, data_FS[:,selected_features], labels_FS, cv=skf)\n",
    "        overfitting_proxy = (np.median(scores['train_score']) - np.median(scores['test_score']))*100\n",
    "\n",
    "        rows.append({'ML model':training_model_id, 'FS model':selection_model_id, \n",
    "                     'F-1':metrics.f1_score(labels_FS, predicted), \n",
    "                     'Accuracy':metrics.accuracy_score(labels_FS, predicted),\n",
    "                    'ROC-AUC score': metrics.roc_auc_score(labels_FS, predicted), \n",
    "                    'jaccard':metrics.jaccard_similarity_score(labels_FS, predicted),\n",
    "                    'MI':metrics.normalized_mutual_info_score(labels_FS, predicted),\n",
    "                     'brier_score_loss':metrics.brier_score_loss(labels_FS, predicted),\n",
    "                     'precision':metrics.precision_score(labels_FS, predicted),\n",
    "                     'recall':metrics.recall_score(labels_FS, predicted),\n",
    "                     'No. selected features':len(selected_features),\n",
    "                     'Overfitting proxy':overfitting_proxy\n",
    "                    })"
   ]
  },
  {
   "cell_type": "code",
   "execution_count": 8,
   "metadata": {
    "scrolled": true
   },
   "outputs": [],
   "source": [
    "scores_res = pd.DataFrame(rows)\n",
    "scores_res = scores_res.sort_values(by = 'Overfitting proxy')\n",
    "scores_res.to_csv('/home/yara/Documents/cystic_fibrosis/data/pseudomonas/machine_learning//ML_trial_run_2_scores_res.csv')"
   ]
  },
  {
   "cell_type": "markdown",
   "metadata": {},
   "source": [
    "#d choose best ML pipeline, run bootstrap and select minimum no. features"
   ]
  },
  {
   "cell_type": "code",
   "execution_count": 9,
   "metadata": {},
   "outputs": [],
   "source": [
    "# input_data = np.load('/home/yara/Documents/cystic_fibrosis/data/pseudomonas/machine_learning/input_data.npz')\n",
    "# data_FS = input_data['data_FS']\n",
    "# data_holdout = input_data['data_holdout']\n",
    "# labels_FS = input_data['labels_FS']\n",
    "# labels_holdout = input_data['labels_holdout']\n",
    "# nonzero_indices = input_data['nonzero_indices']\n",
    "# rand = input_data['rand']\n",
    "# scores_res = pd.read_csv('/home/yara/Documents/cystic_fibrosis/data/pseudomonas/machine_learning//ML_trial_run_1_scores_res.csv')"
   ]
  },
  {
   "cell_type": "code",
   "execution_count": 10,
   "metadata": {
    "scrolled": true
   },
   "outputs": [
    {
     "name": "stdout",
     "output_type": "stream",
     "text": [
      "200\n",
      "199\n",
      "198\n",
      "197\n",
      "196\n",
      "195\n",
      "194\n",
      "193\n",
      "192\n",
      "191\n",
      "190\n",
      "189\n",
      "188\n",
      "187\n",
      "186\n",
      "185\n",
      "184\n",
      "183\n",
      "182\n",
      "181\n",
      "180\n",
      "179\n",
      "178\n",
      "177\n",
      "176\n",
      "175\n",
      "174\n",
      "173\n",
      "172\n",
      "171\n",
      "170\n",
      "169\n",
      "168\n",
      "167\n",
      "166\n",
      "165\n",
      "164\n",
      "163\n",
      "162\n",
      "161\n",
      "160\n",
      "159\n",
      "158\n",
      "157\n",
      "156\n",
      "155\n",
      "154\n",
      "153\n",
      "152\n",
      "151\n",
      "150\n",
      "149\n",
      "148\n",
      "147\n",
      "146\n",
      "145\n",
      "144\n",
      "143\n",
      "142\n",
      "141\n",
      "140\n",
      "139\n",
      "138\n",
      "137\n",
      "136\n",
      "135\n",
      "134\n",
      "133\n",
      "132\n",
      "131\n",
      "130\n",
      "129\n",
      "128\n",
      "127\n",
      "126\n",
      "125\n",
      "124\n",
      "123\n",
      "122\n",
      "121\n",
      "120\n",
      "119\n",
      "118\n",
      "117\n",
      "116\n",
      "115\n",
      "114\n",
      "113\n",
      "112\n",
      "111\n",
      "110\n",
      "109\n",
      "108\n",
      "107\n",
      "106\n",
      "105\n",
      "104\n",
      "103\n",
      "102\n",
      "101\n",
      "100\n",
      "99\n",
      "98\n",
      "97\n",
      "96\n",
      "95\n",
      "94\n",
      "93\n",
      "92\n",
      "91\n",
      "90\n",
      "89\n",
      "88\n",
      "87\n",
      "86\n",
      "85\n",
      "84\n",
      "83\n",
      "82\n",
      "81\n",
      "80\n",
      "79\n",
      "78\n",
      "77\n",
      "76\n",
      "75\n",
      "74\n",
      "73\n",
      "72\n",
      "71\n",
      "70\n",
      "69\n",
      "68\n",
      "67\n",
      "66\n",
      "65\n",
      "64\n",
      "63\n",
      "62\n",
      "61\n",
      "60\n",
      "59\n",
      "58\n",
      "57\n",
      "56\n",
      "55\n",
      "54\n",
      "53\n",
      "52\n",
      "51\n",
      "50\n",
      "49\n",
      "48\n",
      "47\n",
      "46\n",
      "45\n",
      "44\n",
      "43\n",
      "42\n",
      "41\n",
      "40\n",
      "39\n",
      "38\n",
      "37\n",
      "36\n",
      "35\n",
      "34\n",
      "33\n",
      "32\n",
      "31\n",
      "30\n",
      "29\n",
      "28\n",
      "27\n",
      "26\n",
      "25\n",
      "24\n",
      "23\n",
      "22\n",
      "21\n",
      "20\n",
      "19\n",
      "18\n",
      "17\n",
      "16\n",
      "15\n",
      "14\n",
      "13\n",
      "12\n",
      "11\n",
      "10\n",
      "9\n",
      "8\n",
      "7\n",
      "6\n",
      "5\n",
      "4\n",
      "3\n",
      "2\n",
      "1\n"
     ]
    }
   ],
   "source": [
    "clf_i = LinearSVC(penalty=\"l1\", loss=\"squared_hinge\", dual=False, max_iter = 100000, class_weight=\"balanced\")\n",
    "\n",
    "stratified_shuffle = StratifiedShuffleSplit(n_splits=200, test_size=0.1, random_state=0)\n",
    "stratified_shuffle.get_n_splits(data_FS, labels_FS)\n",
    "\n",
    "i = 0\n",
    "bootstrap_rows = {}\n",
    "\n",
    "for train_index, test_index in stratified_shuffle.split(data_FS, labels_FS):\n",
    "    print(200-i)\n",
    "    clf = clf_i.fit(data_FS[train_index,:], labels_FS[train_index])\n",
    "    coef_d = dict(zip(range(data_FS.shape[1]), clf.coef_.tolist()[0]))\n",
    "    d = {x:y for x,y in coef_d.items() if abs(y) > abs(coef_d[data_FS.shape[1] -1])}\n",
    "    bootstrap_rows['Try_%d'%i] = d \n",
    "    i +=1 "
   ]
  },
  {
   "cell_type": "code",
   "execution_count": 11,
   "metadata": {},
   "outputs": [],
   "source": [
    "# pickle.dump(bootstrap_rows, open('/home/yara/Documents/cystic_fibrosis/data/pseudomonas/machine_learning/bootstrap_rows_SVC_trial_3.p', 'wb'))\n",
    "pickle.dump(bootstrap_rows, open('/home/yara/Documents/cystic_fibrosis/data/pseudomonas/machine_learning/bootstrap_rows_SVC_trial_2.p', 'wb'))"
   ]
  },
  {
   "cell_type": "code",
   "execution_count": 12,
   "metadata": {},
   "outputs": [
    {
     "data": {
      "text/plain": [
       "Text(0.5, 1.0, 'Count of times a feature is selected in an SVM')"
      ]
     },
     "execution_count": 12,
     "metadata": {},
     "output_type": "execute_result"
    },
    {
     "data": {
      "image/png": "[encoded data removed]",
      "text/plain": [
       "<Figure size 432x288 with 1 Axes>"
      ]
     },
     "metadata": {
      "needs_background": "light"
     },
     "output_type": "display_data"
    }
   ],
   "source": [
    "bootstrap_res = pd.DataFrame(bootstrap_rows).fillna(0)\n",
    "bootstrap_res_i = bootstrap_res.copy()\n",
    "bootstrap_res_i[bootstrap_res_i != 0] = 1\n",
    "plt.hist(bootstrap_res_i.sum(axis = 1))\n",
    "plt.xlabel('No. SVMs')\n",
    "plt.ylabel('No. features')\n",
    "plt.title('Count of times a feature is selected in an SVM')"
   ]
  },
  {
   "cell_type": "code",
   "execution_count": 33,
   "metadata": {},
   "outputs": [],
   "source": [
    "from scipy.signal import *"
   ]
  },
  {
   "cell_type": "code",
   "execution_count": 43,
   "metadata": {
    "scrolled": true
   },
   "outputs": [
    {
     "data": {
      "text/html": [
       "<div>\n",
       "<style scoped>\n",
       "    .dataframe tbody tr th:only-of-type {\n",
       "        vertical-align: middle;\n",
       "    }\n",
       "\n",
       "    .dataframe tbody tr th {\n",
       "        vertical-align: top;\n",
       "    }\n",
       "\n",
       "    .dataframe thead th {\n",
       "        text-align: right;\n",
       "    }\n",
       "</style>\n",
       "<table border=\"1\" class=\"dataframe\">\n",
       "  <thead>\n",
       "    <tr style=\"text-align: right;\">\n",
       "      <th></th>\n",
       "      <th>0</th>\n",
       "    </tr>\n",
       "  </thead>\n",
       "  <tbody>\n",
       "    <tr>\n",
       "      <th>242087</th>\n",
       "      <td>109.576092</td>\n",
       "    </tr>\n",
       "    <tr>\n",
       "      <th>52237</th>\n",
       "      <td>109.137537</td>\n",
       "    </tr>\n",
       "    <tr>\n",
       "      <th>273742</th>\n",
       "      <td>91.086943</td>\n",
       "    </tr>\n",
       "    <tr>\n",
       "      <th>276630</th>\n",
       "      <td>76.028352</td>\n",
       "    </tr>\n",
       "    <tr>\n",
       "      <th>55447</th>\n",
       "      <td>74.361378</td>\n",
       "    </tr>\n",
       "    <tr>\n",
       "      <th>253486</th>\n",
       "      <td>65.908561</td>\n",
       "    </tr>\n",
       "    <tr>\n",
       "      <th>293487</th>\n",
       "      <td>64.724236</td>\n",
       "    </tr>\n",
       "    <tr>\n",
       "      <th>240337</th>\n",
       "      <td>59.524628</td>\n",
       "    </tr>\n",
       "    <tr>\n",
       "      <th>266708</th>\n",
       "      <td>54.714500</td>\n",
       "    </tr>\n",
       "    <tr>\n",
       "      <th>248932</th>\n",
       "      <td>53.857169</td>\n",
       "    </tr>\n",
       "    <tr>\n",
       "      <th>270130</th>\n",
       "      <td>50.421867</td>\n",
       "    </tr>\n",
       "    <tr>\n",
       "      <th>3770</th>\n",
       "      <td>49.695915</td>\n",
       "    </tr>\n",
       "    <tr>\n",
       "      <th>306363</th>\n",
       "      <td>46.974044</td>\n",
       "    </tr>\n",
       "    <tr>\n",
       "      <th>253575</th>\n",
       "      <td>43.675586</td>\n",
       "    </tr>\n",
       "    <tr>\n",
       "      <th>291530</th>\n",
       "      <td>43.635512</td>\n",
       "    </tr>\n",
       "    <tr>\n",
       "      <th>224114</th>\n",
       "      <td>40.527828</td>\n",
       "    </tr>\n",
       "    <tr>\n",
       "      <th>265363</th>\n",
       "      <td>39.223375</td>\n",
       "    </tr>\n",
       "    <tr>\n",
       "      <th>32814</th>\n",
       "      <td>38.872734</td>\n",
       "    </tr>\n",
       "    <tr>\n",
       "      <th>250942</th>\n",
       "      <td>36.997049</td>\n",
       "    </tr>\n",
       "    <tr>\n",
       "      <th>257559</th>\n",
       "      <td>34.882278</td>\n",
       "    </tr>\n",
       "    <tr>\n",
       "      <th>152370</th>\n",
       "      <td>34.258112</td>\n",
       "    </tr>\n",
       "    <tr>\n",
       "      <th>260098</th>\n",
       "      <td>34.206307</td>\n",
       "    </tr>\n",
       "    <tr>\n",
       "      <th>243771</th>\n",
       "      <td>33.170685</td>\n",
       "    </tr>\n",
       "    <tr>\n",
       "      <th>285742</th>\n",
       "      <td>32.103263</td>\n",
       "    </tr>\n",
       "    <tr>\n",
       "      <th>240348</th>\n",
       "      <td>31.092013</td>\n",
       "    </tr>\n",
       "    <tr>\n",
       "      <th>1626</th>\n",
       "      <td>29.469735</td>\n",
       "    </tr>\n",
       "    <tr>\n",
       "      <th>254164</th>\n",
       "      <td>29.469052</td>\n",
       "    </tr>\n",
       "    <tr>\n",
       "      <th>18470</th>\n",
       "      <td>28.564512</td>\n",
       "    </tr>\n",
       "    <tr>\n",
       "      <th>240940</th>\n",
       "      <td>27.822021</td>\n",
       "    </tr>\n",
       "    <tr>\n",
       "      <th>39237</th>\n",
       "      <td>26.452753</td>\n",
       "    </tr>\n",
       "    <tr>\n",
       "      <th>...</th>\n",
       "      <td>...</td>\n",
       "    </tr>\n",
       "    <tr>\n",
       "      <th>10466</th>\n",
       "      <td>0.001107</td>\n",
       "    </tr>\n",
       "    <tr>\n",
       "      <th>28880</th>\n",
       "      <td>0.001062</td>\n",
       "    </tr>\n",
       "    <tr>\n",
       "      <th>15937</th>\n",
       "      <td>0.001041</td>\n",
       "    </tr>\n",
       "    <tr>\n",
       "      <th>24915</th>\n",
       "      <td>0.000956</td>\n",
       "    </tr>\n",
       "    <tr>\n",
       "      <th>51192</th>\n",
       "      <td>0.000931</td>\n",
       "    </tr>\n",
       "    <tr>\n",
       "      <th>9780</th>\n",
       "      <td>0.000838</td>\n",
       "    </tr>\n",
       "    <tr>\n",
       "      <th>233648</th>\n",
       "      <td>0.000812</td>\n",
       "    </tr>\n",
       "    <tr>\n",
       "      <th>189891</th>\n",
       "      <td>0.000655</td>\n",
       "    </tr>\n",
       "    <tr>\n",
       "      <th>260786</th>\n",
       "      <td>0.000650</td>\n",
       "    </tr>\n",
       "    <tr>\n",
       "      <th>116026</th>\n",
       "      <td>0.000591</td>\n",
       "    </tr>\n",
       "    <tr>\n",
       "      <th>33937</th>\n",
       "      <td>0.000586</td>\n",
       "    </tr>\n",
       "    <tr>\n",
       "      <th>275041</th>\n",
       "      <td>0.000575</td>\n",
       "    </tr>\n",
       "    <tr>\n",
       "      <th>240797</th>\n",
       "      <td>0.000565</td>\n",
       "    </tr>\n",
       "    <tr>\n",
       "      <th>19658</th>\n",
       "      <td>0.000511</td>\n",
       "    </tr>\n",
       "    <tr>\n",
       "      <th>145670</th>\n",
       "      <td>0.000479</td>\n",
       "    </tr>\n",
       "    <tr>\n",
       "      <th>247186</th>\n",
       "      <td>0.000475</td>\n",
       "    </tr>\n",
       "    <tr>\n",
       "      <th>304040</th>\n",
       "      <td>0.000311</td>\n",
       "    </tr>\n",
       "    <tr>\n",
       "      <th>6114</th>\n",
       "      <td>0.000222</td>\n",
       "    </tr>\n",
       "    <tr>\n",
       "      <th>37225</th>\n",
       "      <td>0.000210</td>\n",
       "    </tr>\n",
       "    <tr>\n",
       "      <th>34225</th>\n",
       "      <td>0.000153</td>\n",
       "    </tr>\n",
       "    <tr>\n",
       "      <th>291341</th>\n",
       "      <td>0.000110</td>\n",
       "    </tr>\n",
       "    <tr>\n",
       "      <th>304525</th>\n",
       "      <td>0.000092</td>\n",
       "    </tr>\n",
       "    <tr>\n",
       "      <th>244964</th>\n",
       "      <td>0.000042</td>\n",
       "    </tr>\n",
       "    <tr>\n",
       "      <th>304859</th>\n",
       "      <td>0.000042</td>\n",
       "    </tr>\n",
       "    <tr>\n",
       "      <th>304822</th>\n",
       "      <td>0.000015</td>\n",
       "    </tr>\n",
       "    <tr>\n",
       "      <th>304652</th>\n",
       "      <td>0.000011</td>\n",
       "    </tr>\n",
       "    <tr>\n",
       "      <th>304528</th>\n",
       "      <td>0.000004</td>\n",
       "    </tr>\n",
       "    <tr>\n",
       "      <th>304529</th>\n",
       "      <td>0.000003</td>\n",
       "    </tr>\n",
       "    <tr>\n",
       "      <th>307097</th>\n",
       "      <td>0.000002</td>\n",
       "    </tr>\n",
       "    <tr>\n",
       "      <th>304814</th>\n",
       "      <td>0.000001</td>\n",
       "    </tr>\n",
       "  </tbody>\n",
       "</table>\n",
       "<p>1712 rows × 1 columns</p>\n",
       "</div>"
      ],
      "text/plain": [
       "                 0\n",
       "242087  109.576092\n",
       "52237   109.137537\n",
       "273742   91.086943\n",
       "276630   76.028352\n",
       "55447    74.361378\n",
       "253486   65.908561\n",
       "293487   64.724236\n",
       "240337   59.524628\n",
       "266708   54.714500\n",
       "248932   53.857169\n",
       "270130   50.421867\n",
       "3770     49.695915\n",
       "306363   46.974044\n",
       "253575   43.675586\n",
       "291530   43.635512\n",
       "224114   40.527828\n",
       "265363   39.223375\n",
       "32814    38.872734\n",
       "250942   36.997049\n",
       "257559   34.882278\n",
       "152370   34.258112\n",
       "260098   34.206307\n",
       "243771   33.170685\n",
       "285742   32.103263\n",
       "240348   31.092013\n",
       "1626     29.469735\n",
       "254164   29.469052\n",
       "18470    28.564512\n",
       "240940   27.822021\n",
       "39237    26.452753\n",
       "...            ...\n",
       "10466     0.001107\n",
       "28880     0.001062\n",
       "15937     0.001041\n",
       "24915     0.000956\n",
       "51192     0.000931\n",
       "9780      0.000838\n",
       "233648    0.000812\n",
       "189891    0.000655\n",
       "260786    0.000650\n",
       "116026    0.000591\n",
       "33937     0.000586\n",
       "275041    0.000575\n",
       "240797    0.000565\n",
       "19658     0.000511\n",
       "145670    0.000479\n",
       "247186    0.000475\n",
       "304040    0.000311\n",
       "6114      0.000222\n",
       "37225     0.000210\n",
       "34225     0.000153\n",
       "291341    0.000110\n",
       "304525    0.000092\n",
       "244964    0.000042\n",
       "304859    0.000042\n",
       "304822    0.000015\n",
       "304652    0.000011\n",
       "304528    0.000004\n",
       "304529    0.000003\n",
       "307097    0.000002\n",
       "304814    0.000001\n",
       "\n",
       "[1712 rows x 1 columns]"
      ]
     },
     "execution_count": 43,
     "metadata": {},
     "output_type": "execute_result"
    }
   ],
   "source": [
    "pd.DataFrame(sorted_features)"
   ]
  },
  {
   "cell_type": "code",
   "execution_count": 40,
   "metadata": {},
   "outputs": [
    {
     "data": {
      "text/plain": [
       "Text(0.5, 1.0, 'Sensitivity analysis of feature set for ML training')"
      ]
     },
     "execution_count": 40,
     "metadata": {},
     "output_type": "execute_result"
    },
    {
     "data": {
      "image/png": "[encoded data removed]",
      "text/plain": [
       "<Figure size 720x360 with 1 Axes>"
      ]
     },
     "metadata": {
      "needs_background": "light"
     },
     "output_type": "display_data"
    }
   ],
   "source": [
    "# bootstrap_res = pd.DataFrame(bootstrap_rows).fillna(0)\n",
    "# sorted_features = abs(bootstrap_res).sum(axis = 1).sort_values(ascending = False)\n",
    "# kappa = defaultdict(dict)\n",
    "\n",
    "# skf = StratifiedKFold(n_splits=10)\n",
    "# clf = LinearSVC(penalty=\"l2\", max_iter = 10000, class_weight = 'balanced')\n",
    "# scores_FS = []\n",
    "\n",
    "# for i in range(10,500,5):\n",
    "#     selected_features = sorted_features[:i].index\n",
    "#     scores = cross_validate(clf, data_FS[:, selected_features], labels_FS, cv=skf, return_train_score = True)\n",
    "#     predicted = cross_val_predict(clf, data_FS[:,selected_features], labels_FS, cv=skf)\n",
    "#     overfitting_proxy = (np.median(scores['train_score']) - np.median(scores['test_score']))\n",
    "    \n",
    "    \n",
    "#     scores_FS.append({\n",
    "#                  'F-1':metrics.f1_score(labels_FS, predicted), \n",
    "#                  'Accuracy':metrics.accuracy_score(labels_FS, predicted),\n",
    "# #                 'Accuracy (test)':metrics.accuracy_score(labels_holdout, predicted_test),\n",
    "#                 'ROC-AUC score': metrics.roc_auc_score(labels_FS, predicted), \n",
    "#                 'jaccard':metrics.jaccard_similarity_score(labels_FS, predicted),\n",
    "#                 'MI':metrics.normalized_mutual_info_score(labels_FS, predicted, average_method='arithmetic'),\n",
    "#                  'brier_score_loss':metrics.brier_score_loss(labels_FS, predicted),\n",
    "#                  'precision':metrics.precision_score(labels_FS, predicted),\n",
    "#                  'recall':metrics.recall_score(labels_FS, predicted),\n",
    "#                  'No. selected features':len(selected_features),\n",
    "#                  'Overfitting proxy':overfitting_proxy\n",
    "#                 })\n",
    "\n",
    "scores_FS_df = pd.read_csv('/home/yara/Documents/cystic_fibrosis/data/pseudomonas/machine_learning/bootstrap_scores_SCV_trial_2.csv')\n",
    "# scores_FS_df = pd.DataFrame(scores_FS)\n",
    "\n",
    "fig, axes = plt.subplots(1,1, figsize =  (10, 5))\n",
    "matplotlib.rcParams.update({'font.size': 15, 'font.weight':'normal'})\n",
    "\n",
    "for score_type in ['ROC-AUC score', 'Accuracy','F-1', 'MI', 'precision', 'recall', 'brier_score_loss', 'jaccard', 'Overfitting proxy']:\n",
    "    smoothed = scipy.signal.savgol_filter(scores_FS_df[score_type], 19, 1)\n",
    "    plt.plot(scores_FS_df['No. selected features'], smoothed, '-', label = score_type)\n",
    "plt.legend(bbox_to_anchor = (1,1))\n",
    "\n",
    "t = min(scores_FS_df.loc[scores_FS_df['MI'] > 0.91]['No. selected features'])\n",
    "\n",
    "plt.axvline(t, color = 'grey', linestyle = 'dotted')\n",
    "plt.xlabel('No. features')\n",
    "plt.ylabel('Metric')\n",
    "plt.title('Sensitivity analysis of feature set for ML training')"
   ]
  },
  {
   "cell_type": "code",
   "execution_count": 21,
   "metadata": {},
   "outputs": [
    {
     "data": {
      "text/plain": [
       "Text(0.5, 1.0, 'Sensitivity analysis of feature set for ML training')"
      ]
     },
     "execution_count": 21,
     "metadata": {},
     "output_type": "execute_result"
    },
    {
     "data": {
      "image/png": "[encoded data removed]",
      "text/plain": [
       "<Figure size 432x288 with 1 Axes>"
      ]
     },
     "metadata": {
      "needs_background": "light"
     },
     "output_type": "display_data"
    }
   ],
   "source": [
    "bootstrap_res = pd.DataFrame(bootstrap_rows).fillna(0)\n",
    "sorted_features = abs(bootstrap_res).sum(axis = 1).sort_values(ascending = False)\n",
    "kappa = defaultdict(dict)\n",
    "\n",
    "skf = StratifiedKFold(n_splits=10)\n",
    "clf = LinearSVC(penalty=\"l2\", max_iter = 10000, class_weight = 'balanced')\n",
    "scores_FS = []\n",
    "\n",
    "for i in range(10,500,5):\n",
    "    selected_features = sorted_features[:i].index\n",
    "    scores = cross_validate(clf, data_FS[:, selected_features], labels_FS, cv=skf, return_train_score = True)\n",
    "    predicted = cross_val_predict(clf, data_FS[:,selected_features], labels_FS, cv=skf)\n",
    "    overfitting_proxy = (np.median(scores['train_score']) - np.median(scores['test_score']))\n",
    "    \n",
    "    \n",
    "    scores_FS.append({\n",
    "                 'F-1':metrics.f1_score(labels_FS, predicted), \n",
    "                 'Accuracy':metrics.accuracy_score(labels_FS, predicted),\n",
    "#                 'Accuracy (test)':metrics.accuracy_score(labels_holdout, predicted_test),\n",
    "                'ROC-AUC score': metrics.roc_auc_score(labels_FS, predicted), \n",
    "                'jaccard':metrics.jaccard_similarity_score(labels_FS, predicted),\n",
    "                'MI':metrics.normalized_mutual_info_score(labels_FS, predicted, average_method='arithmetic'),\n",
    "                 'brier_score_loss':metrics.brier_score_loss(labels_FS, predicted),\n",
    "                 'precision':metrics.precision_score(labels_FS, predicted),\n",
    "                 'recall':metrics.recall_score(labels_FS, predicted),\n",
    "                 'No. selected features':len(selected_features),\n",
    "                 'Overfitting proxy':overfitting_proxy\n",
    "                })\n",
    "\n",
    "scores_FS_df = pd.read_csv('/home/yara/Documents/cystic_fibrosis/data/pseudomonas/machine_learning/bootstrap_scores_SCV_trial_2.csv')\n",
    "# scores_FS_df = pd.DataFrame(scores_FS)\n",
    "for score_type in ['ROC-AUC score', 'Accuracy','F-1', 'MI', 'precision', 'recall', 'brier_score_loss', 'jaccard', 'Overfitting proxy']:\n",
    "    plt.plot(scores_FS_df['No. selected features'], scores_FS_df[score_type], '-', label = score_type)\n",
    "plt.legend()\n",
    "\n",
    "t = min(scores_FS_df.loc[scores_FS_df['MI'] > 0.91]['No. selected features'])\n",
    "\n",
    "plt.axvline(t, color = 'grey')\n",
    "plt.xlabel('No. features')\n",
    "plt.ylabel('Metric')\n",
    "plt.title('Sensitivity analysis of feature set for ML training')"
   ]
  },
  {
   "cell_type": "code",
   "execution_count": 14,
   "metadata": {},
   "outputs": [],
   "source": [
    "# scores_FS_df.to_csv('/home/yara/Documents/cystic_fibrosis/data/pseudomonas/machine_learning/bootstrap_scores_SCV_trial_2.csv')\n",
    "selected_features_final = sorted_features[:min(scores_FS_df.loc[scores_FS_df['MI'] > 0.91]['No. selected features'])].index\n",
    "selected_features_final = pd.DataFrame(bootstrap_res.sum(axis = 1).loc[selected_features_final], columns = ['score'])\n",
    "selected_features_final.to_csv('/home/yara/Documents/cystic_fibrosis/data/pseudomonas/machine_learning/selected_features_final_trial_2.csv')"
   ]
  },
  {
   "cell_type": "code",
   "execution_count": 15,
   "metadata": {},
   "outputs": [],
   "source": [
    "scores_FS_df = pd.read_csv('/home/yara/Documents/cystic_fibrosis/data/pseudomonas/machine_learning/bootstrap_scores_SCV_trial_2.csv')\n",
    "bootstrap_rows = pickle.load(open('/home/yara/Documents/cystic_fibrosis/data/pseudomonas/machine_learning/bootstrap_rows_SVC_trial_2.p', 'rb'))\n",
    "bootstrap_res = pd.DataFrame(bootstrap_rows).fillna(0)\n",
    "sorted_features = abs(bootstrap_res).sum(axis = 1).sort_values(ascending = False)\n",
    "selected_features_final = sorted_features[:min(scores_FS_df.loc[scores_FS_df['MI'] > 0.91]['No. selected features'])].index\n",
    "\n",
    "selected_features_final = sorted_features[:min(scores_FS_df.loc[scores_FS_df['MI'] > 0.91]['No. selected features'])].index\n",
    "selected_features_final = pd.DataFrame(bootstrap_res.sum(axis = 1).loc[selected_features_final], columns = ['score'])\n",
    "selected_features_final.to_csv('/home/yara/Documents/cystic_fibrosis/data/pseudomonas/machine_learning/selected_features_final_trial_2.csv')"
   ]
  },
  {
   "cell_type": "code",
   "execution_count": 16,
   "metadata": {},
   "outputs": [
    {
     "data": {
      "text/plain": [
       "(210, 1)"
      ]
     },
     "execution_count": 16,
     "metadata": {},
     "output_type": "execute_result"
    }
   ],
   "source": [
    "selected_features_final.shape"
   ]
  },
  {
   "cell_type": "markdown",
   "metadata": {},
   "source": [
    "#d plot the results for the best combination"
   ]
  },
  {
   "cell_type": "code",
   "execution_count": 18,
   "metadata": {},
   "outputs": [],
   "source": [
    "from sklearn.metrics import roc_curve, auc, confusion_matrix\n",
    "\n",
    "import matplotlib.patches\n",
    "import matplotlib.font_manager"
   ]
  },
  {
   "cell_type": "code",
   "execution_count": 15,
   "metadata": {},
   "outputs": [],
   "source": [
    "# directory = '/home/yara/Documents/cystic_fibrosis/data/pseudomonas/allele_matrix/'\n",
    "# allele_matrix = scipy.sparse.load_npz('%s/allele_matrix.npz'%directory).todense().T\n",
    "# input_data = np.load('/home/yara/Documents/cystic_fibrosis/data/pseudomonas/machine_learning/input_data.npz')\n",
    "# train_index = input_data['train_index']\n",
    "# test_index = input_data['test_index']\n",
    "\n",
    "# col_rows = pickle.load(open('/home/yara/Documents/cystic_fibrosis/data/pseudomonas/allele_matrix/col_rows.p', 'rb'))\n",
    "# gid_order = col_rows[0]\n",
    "# FT_LRI = pd.read_csv('/home/yara/Documents/cystic_fibrosis/data/pseudomonas/FT_LRI_f.csv', dtype = {'Genome ID':str}).set_index('Genome ID').loc[gid_order].reset_index()\n",
    "\n",
    "# labels = np.array(FT_LRI['cystic_fibrosis_status'])\n",
    "\n",
    "# data_FS, data_holdout = allele_matrix[train_index,:], allele_matrix[test_index,:]\n",
    "# labels_FS, labels_holdout = labels[train_index], labels[test_index]\n",
    "\n",
    "# selected_features_final = pd.read_csv('/home/yara/Documents/cystic_fibrosis/data/pseudomonas/machine_learning/selected_features_final_trial_2.csv')"
   ]
  },
  {
   "cell_type": "code",
   "execution_count": 23,
   "metadata": {},
   "outputs": [],
   "source": [
    "import matplotlib"
   ]
  },
  {
   "cell_type": "code",
   "execution_count": 30,
   "metadata": {},
   "outputs": [
    {
     "data": {
      "text/plain": [
       "Text(0.5, 1.1, 'P. aeruginosa')"
      ]
     },
     "execution_count": 30,
     "metadata": {},
     "output_type": "execute_result"
    },
    {
     "data": {
      "image/png": "[encoded data removed]",
      "text/plain": [
       "<Figure size 1296x432 with 2 Axes>"
      ]
     },
     "metadata": {
      "needs_background": "light"
     },
     "output_type": "display_data"
    }
   ],
   "source": [
    "selected_features = selected_features_final.index.tolist()\n",
    "# selected_features  = sorted_features[:240].index\n",
    "clf = LinearSVC(penalty=\"l2\", max_iter = 10000, class_weight = 'balanced')\n",
    "matplotlib.rcParams.update({'font.size': 15, 'font.weight':'normal'})\n",
    "fig, axes = plt.subplots(1,2, figsize = (18, 6))\n",
    "\n",
    "lw = 2\n",
    "y_score = clf.fit(data_FS[:,selected_features], labels_FS).decision_function(data_holdout[:,selected_features])\n",
    "fpr, tpr, _ = roc_curve(labels_holdout, y_score)\n",
    "roc_auc_multi = auc(fpr, tpr)\n",
    "axes[0].plot(fpr, tpr, label='ROC curve (area = %f)'%(round(roc_auc_multi, 3)))\n",
    "axes[0].plot([0, 1], [0, 1], color='navy', lw=lw, linestyle='--')\n",
    "axes[0].set_xlim([0.0, 1.0])\n",
    "axes[0].set_ylim([0.0, 1.05])\n",
    "axes[0].set_xlabel('False Positive Rate')\n",
    "axes[0].set_ylabel('True Positive Rate')\n",
    "axes[0].set_title('Receiver operating characteristic')\n",
    "axes[0].legend(loc=\"lower right\")\n",
    "\n",
    "predicted = clf.fit(data_FS[:,selected_features], labels_FS).predict(data_holdout[:,selected_features])\n",
    "conf_m = confusion_matrix(labels_holdout,predicted)\n",
    "\n",
    "axes[1].axvline(0)\n",
    "axes[1].axhline(0)\n",
    "# ax=axes[1].gca()\n",
    "\n",
    "for count,indices in enumerate([[1,1], [1,0], [0,0], [0,1]]):\n",
    "    r1 = np.log(conf_m[indices[0]][indices[1]])\n",
    "    c1 = matplotlib.patches.Arc((0,0), r1, r1, angle = 90, theta1 = 90*(count), theta2 = 90*(count+1))\n",
    "    axes[1].add_patch(c1)\n",
    "\n",
    "axes[1].text(-2.2, 2.2, '$\\it{n}$= %d'%conf_m[1,1])\n",
    "axes[1].text(1.6, 2.2, '$\\it{n}$= %d'%conf_m[0,1])\n",
    "axes[1].text(1.6, -2.2, '$\\it{n}$= %d'%conf_m[0,0])\n",
    "axes[1].text(-2.2, -2.2, '$\\it{n}$= %d'%conf_m[1,0])\n",
    "\n",
    "axes[1].axis('scaled')\n",
    "axes[1].set_xticks([-1, 1])\n",
    "axes[1].set_xticklabels(['Patients with \\ncystic fibrosis','Patients without \\n Cystic Fibrosis'])\n",
    "axes[1].set_xlabel('Predicted')\n",
    "axes[1].set_yticks([-1, 1])\n",
    "axes[1].set_yticklabels(['Patients without \\ncystic fibrosis','Patients with \\n Cystic Fibrosis'])\n",
    "axes[1].set_ylabel('Observed')\n",
    "axes[1].set_title('Confusion matrix')\n",
    "\n",
    "fig.suptitle('P. aeruginosa', y = 1.1, fontsize = 30)"
   ]
  },
  {
   "cell_type": "code",
   "execution_count": 20,
   "metadata": {},
   "outputs": [],
   "source": [
    "directory = '/home/yara/Documents/cystic_fibrosis/data/pseudomonas/allele_matrix/'\n",
    "col_rows = pickle.load(open('%s/col_rows.p'%directory, 'rb'))\n",
    "input_data = np.load('/home/yara/Documents/cystic_fibrosis/data/pseudomonas/machine_learning/input_data.npz')\n",
    "train_index = input_data['train_index']\n",
    "test_index = input_data['test_index']"
   ]
  },
  {
   "cell_type": "code",
   "execution_count": 21,
   "metadata": {},
   "outputs": [],
   "source": [
    "FT_LRI = pd.read_csv('/home/yara/Documents/cystic_fibrosis/data/pseudomonas/FT_LRI_f.csv', dtype = {'Genome ID':str}).set_index('Genome ID')"
   ]
  },
  {
   "cell_type": "code",
   "execution_count": 22,
   "metadata": {},
   "outputs": [
    {
     "data": {
      "text/plain": [
       "Genome ID\n",
       "287.7535    sputum of adult cystic fibrosis patient\n",
       "287.7492          sputum of cystic fibrosis patient\n",
       "287.7499    sputum of adult cystic fibrosis patient\n",
       "287.4561                                     sputum\n",
       "287.7494          sputum of cystic fibrosis patient\n",
       "287.2547                     cystic fibrosis airway\n",
       "287.1972                                     sputum\n",
       "287.7596    sputum of adult cystic fibrosis patient\n",
       "287.4263                                     sputum\n",
       "287.5758                     bronchoalveolar lavage\n",
       "287.5763                     bronchoalveolar lavage\n",
       "287.8032                                respiratory\n",
       "Name: Isolation Source, dtype: object"
      ]
     },
     "execution_count": 22,
     "metadata": {},
     "output_type": "execute_result"
    }
   ],
   "source": [
    "holdout_gids = col_rows[0][test_index]\n",
    "\n",
    "# predicted to be from CF patient, but actually isn;t\n",
    "FT_LRI.loc[set(holdout_gids[predicted == 1]) & set(holdout_gids[labels_holdout == 0])]['Isolation Source']"
   ]
  },
  {
   "cell_type": "code",
   "execution_count": 23,
   "metadata": {
    "scrolled": true
   },
   "outputs": [
    {
     "data": {
      "text/plain": [
       "287.4561                                     sputum\n",
       "287.7499    sputum of adult cystic fibrosis patient\n",
       "287.7596    sputum of adult cystic fibrosis patient\n",
       "287.1972                                     sputum\n",
       "287.5763                     bronchoalveolar lavage\n",
       "287.8032                                respiratory\n",
       "287.7535    sputum of adult cystic fibrosis patient\n",
       "287.7949                                     Sputum\n",
       "287.7948                     bronchoalveolar lavage\n",
       "287.9104                                     Sputum\n",
       "287.7492          sputum of cystic fibrosis patient\n",
       "287.9175                                     Sputum\n",
       "287.7494          sputum of cystic fibrosis patient\n",
       "287.4263                                     sputum\n",
       "287.9150                                     Sputum\n",
       "287.5758                     bronchoalveolar lavage\n",
       "287.2547                     cystic fibrosis airway\n",
       "Name: Isolation Source, dtype: object"
      ]
     },
     "execution_count": 23,
     "metadata": {},
     "output_type": "execute_result"
    }
   ],
   "source": [
    "FT_LRI.loc[holdout_gids[predicted != labels_holdout]]['Isolation Source']"
   ]
  },
  {
   "cell_type": "markdown",
   "metadata": {},
   "source": [
    "#d check for overlap with known adaptive genes to benchmark the approach"
   ]
  },
  {
   "cell_type": "code",
   "execution_count": 10,
   "metadata": {},
   "outputs": [],
   "source": [
    "cdhit_directory = '/home/yara/Documents/cystic_fibrosis/data/pseudomonas/pangenome/pseudomonas_pangenome_cdhit.clstr'\n",
    "cdhit_clusters = get_cdhit_clusters(cdhit_directory)\n",
    "cdhit_clusters_rev = {y:x for x,z in cdhit_clusters.items() for y in z}\n",
    "\n",
    "blast_hits = pickle.load(open('/home/yara/Documents/cystic_fibrosis/data/pseudomonas/pangenome/BR_results/blast_hits.p', 'rb'))\n",
    "list52_generous = [cdhit_clusters_rev[x] for key, val in blast_hits.items() for ref_gene, mapped_genes in val.items() for x in mapped_genes]\n",
    "\n",
    "output_directory = '/home/yara/Documents/cystic_fibrosis/data/pseudomonas/allele_matrix/'\n",
    "allele2cdhit = pickle.load(open('%s/allele2cdhit.p'%output_directory, 'rb'))\n",
    "allele2cdhit_rev = defaultdict(list)\n",
    "for allele, cdhit in allele2cdhit.items():\n",
    "    allele2cdhit_rev[cdhit].append(allele)\n",
    "    \n",
    "SF_cdhit = {allele2cdhit['Allele_%d'%x] for x in selected_features_final.index}\n",
    "len(SF_cdhit & set(list52_generous))/len(SF_cdhit)"
   ]
  },
  {
   "cell_type": "code",
   "execution_count": 140,
   "metadata": {},
   "outputs": [
    {
     "data": {
      "text/plain": [
       "('Allele_312600', 'Cluster 11915')"
      ]
     },
     "execution_count": 140,
     "metadata": {},
     "output_type": "execute_result"
    }
   ],
   "source": [
    "list(allele2cdhit.items())[0]"
   ]
  },
  {
   "cell_type": "code",
   "execution_count": 41,
   "metadata": {},
   "outputs": [
    {
     "data": {
      "text/plain": [
       "{44693, 122337, 205446, 287830, 288872}"
      ]
     },
     "execution_count": 41,
     "metadata": {},
     "output_type": "execute_result"
    }
   ],
   "source": [
    "set(selected_features) & set(list52_alleleId)"
   ]
  },
  {
   "cell_type": "code",
   "execution_count": 47,
   "metadata": {},
   "outputs": [
    {
     "data": {
      "text/plain": [
       "(0.04977811898184464,\n",
       " -0.066240840389509,\n",
       " 0.06084511698082329,\n",
       " -0.17065523141574912,\n",
       " -0.06387075869145441)"
      ]
     },
     "execution_count": 47,
     "metadata": {},
     "output_type": "execute_result"
    }
   ],
   "source": [
    "all_rows[selection_model_id][44693], all_rows[selection_model_id][122337], all_rows[selection_model_id][205446], all_rows[selection_model_id][287830], all_rows[selection_model_id][288872]"
   ]
  },
  {
   "cell_type": "code",
   "execution_count": 94,
   "metadata": {},
   "outputs": [
    {
     "data": {
      "text/plain": [
       "1455"
      ]
     },
     "execution_count": 94,
     "metadata": {},
     "output_type": "execute_result"
    }
   ],
   "source": [
    "blast_hits = pickle.load(open('/home/yara/Documents/cystic_fibrosis/data/pseudomonas/pangenome/BR_results/blast_hits.p', 'rb'))\n",
    "list52_generous = [cdhit_clusters_rev[x] for key, val in blast_hits.items() for ref_gene, mapped_genes in val.items() for x in mapped_genes]\n",
    "len(list52_generous)"
   ]
  },
  {
   "cell_type": "code",
   "execution_count": 98,
   "metadata": {},
   "outputs": [
    {
     "name": "stdout",
     "output_type": "stream",
     "text": [
      "LinearSVC - C=0 - random 0.22007722007722008\n",
      "LogisticRegression - C=2 - random 0.21022727272727273\n",
      "LogisticRegression - C=1 - random 0.1971326164874552\n",
      "LogisticRegression - C=0 - random 0.19696969696969696\n",
      "LinearSVC - C=2 - random 0.21031746031746032\n",
      "LinearSVC - C=1 - random 0.228310502283105\n"
     ]
    }
   ],
   "source": [
    "called = set()\n",
    "for selection_model_id in all_rows.keys():\n",
    "    if 'RandomForestClassifier' not in selection_model_id:\n",
    "        s1 = {allele2cdhit['Allele_%d'%x] for x in all_rows[selection_model_id]}\n",
    "        print(selection_model_id, len(s1 & set(list52_generous))/len(s1)) #, {allele2cdhit['Allele_%d'%x] for x in s1} & set(list52_generous) )\n",
    "#         called.update({allele2cdhit['Allele_%d'%x] for x in s1 & set(list52_alleleId)})\n",
    "#         called.update({allele2cdhit['Allele_%d'%x] for x in s1} & set(list52_generous) )"
   ]
  },
  {
   "cell_type": "code",
   "execution_count": 102,
   "metadata": {},
   "outputs": [
    {
     "data": {
      "text/plain": [
       "0.05284951509207802"
      ]
     },
     "execution_count": 102,
     "metadata": {},
     "output_type": "execute_result"
    }
   ],
   "source": [
    "len(list52_generous)/len(cdhit_clusters)"
   ]
  },
  {
   "cell_type": "code",
   "execution_count": 83,
   "metadata": {},
   "outputs": [
    {
     "data": {
      "text/plain": [
       "{'Cluster 10116',\n",
       " 'Cluster 1240',\n",
       " 'Cluster 14617',\n",
       " 'Cluster 2506',\n",
       " 'Cluster 391',\n",
       " 'Cluster 3968',\n",
       " 'Cluster 557',\n",
       " 'Cluster 746'}"
      ]
     },
     "execution_count": 83,
     "metadata": {},
     "output_type": "execute_result"
    }
   ],
   "source": [
    "called"
   ]
  },
  {
   "cell_type": "code",
   "execution_count": 70,
   "metadata": {},
   "outputs": [],
   "source": [
    "locus_tags = pickle.load(open('/home/yara/Documents/cystic_fibrosis/data/pseudomonas/list52genes.p', 'rb'))"
   ]
  },
  {
   "cell_type": "code",
   "execution_count": null,
   "metadata": {},
   "outputs": [],
   "source": [
    "gyrA, gyrB, mexA, mexB, mexR, mexS, mexZ, nalD, nfxB and oprD"
   ]
  },
  {
   "cell_type": "code",
   "execution_count": 71,
   "metadata": {},
   "outputs": [
    {
     "data": {
      "text/plain": [
       "{'PA0004': 'gyrB',\n",
       " 'PA0426': 'mexB',\n",
       " 'PA2602': '',\n",
       " 'PA3064': 'pelA',\n",
       " 'PA3574': 'nalD',\n",
       " 'PA4020': 'mpl',\n",
       " 'PA4963': ''}"
      ]
     },
     "execution_count": 71,
     "metadata": {},
     "output_type": "execute_result"
    }
   ],
   "source": [
    "{x:locus_tags[x] for x in called}"
   ]
  },
  {
   "cell_type": "code",
   "execution_count": 63,
   "metadata": {},
   "outputs": [
    {
     "data": {
      "text/plain": [
       "{44693, 122337, 287830, 288872}"
      ]
     },
     "execution_count": 63,
     "metadata": {},
     "output_type": "execute_result"
    }
   ],
   "source": [
    "s1 & set(list52_alleleId)"
   ]
  },
  {
   "cell_type": "code",
   "execution_count": null,
   "metadata": {},
   "outputs": [],
   "source": [
    "cdhit_clusters_rev"
   ]
  },
  {
   "cell_type": "code",
   "execution_count": null,
   "metadata": {},
   "outputs": [],
   "source": []
  }
 ],
 "metadata": {
  "kernelspec": {
   "display_name": "Python 3",
   "language": "python",
   "name": "python3"
  },
  "language_info": {
   "codemirror_mode": {
    "name": "ipython",
    "version": 3
   },
   "file_extension": ".py",
   "mimetype": "text/x-python",
   "name": "python",
   "nbconvert_exporter": "python",
   "pygments_lexer": "ipython3",
   "version": "3.5.2"
  }
 },
 "nbformat": 4,
 "nbformat_minor": 2
}
